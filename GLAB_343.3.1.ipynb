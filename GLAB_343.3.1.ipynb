{
 "cells": [
  {
   "attachments": {},
   "cell_type": "markdown",
   "metadata": {},
   "source": [
    "Guided Lab - 343.3.1 - Handling Missing Data\n",
    "\n",
    "Lab Overview\n",
    "\n",
    "In this lab, you will demonstrate, how to handle missing data( mostly in a form NaN value) in Pandas using DataFrame.fillna() and DataFrame.replace() functions\n",
    "\n",
    "Example 1: Dropping or cleaning the missing data using df.dropna() method\n"
   ]
  },
  {
   "cell_type": "code",
   "execution_count": 2,
   "metadata": {},
   "outputs": [],
   "source": [
    "import numpy as np\n",
    "import pandas as pd"
   ]
  },
  {
   "cell_type": "code",
   "execution_count": 17,
   "metadata": {},
   "outputs": [
    {
     "name": "stdout",
     "output_type": "stream",
     "text": [
      "        Name   Age  Weight     Salary\n",
      "0      James  36.0    75.0  5428000.0\n",
      "1    Villers  38.0    74.0  3428000.0\n",
      "2      VKole  31.0    70.0  8428000.0\n",
      "3      Smith  34.0    80.0  4428000.0\n",
      "4      Gayle  40.0   100.0  4528000.0\n",
      "5       Adam  40.0     NaN  4528000.0\n",
      "6     Rooter  33.0    72.0  7028000.0\n",
      "7   Peterson  42.0    85.0  2528000.0\n",
      "8      lynda  42.0    85.0        NaN\n",
      "9        NaN  42.0    85.0        NaN\n",
      "10     Jenny   NaN   100.0    25632.0\n",
      "11      Kenn   NaN   110.0    25632.0\n",
      "12       Aly   NaN    90.0    25582.0\n",
      "13      John  41.0    85.0  1528000.0\n",
      "---- after dropping or cleaning the missing data ---\n",
      "        Name   Age  Weight     Salary\n",
      "0      James  36.0    75.0  5428000.0\n",
      "1    Villers  38.0    74.0  3428000.0\n",
      "2      VKole  31.0    70.0  8428000.0\n",
      "3      Smith  34.0    80.0  4428000.0\n",
      "4      Gayle  40.0   100.0  4528000.0\n",
      "6     Rooter  33.0    72.0  7028000.0\n",
      "7   Peterson  42.0    85.0  2528000.0\n",
      "13      John  41.0    85.0  1528000.0\n"
     ]
    }
   ],
   "source": [
    "# Initializing the nested list with Data set\n",
    "employee_list = [['James', 36, 75, 5428000],\n",
    "               ['Villers', 38, 74, 3428000],\n",
    "               ['VKole', 31, 70, 8428000],\n",
    "               ['Smith', 34, 80, 4428000],\n",
    "               ['Gayle', 40, 100, 4528000],\n",
    "               ['Adam', 40, np.nan, 4528000],\n",
    "               ['Rooter', 33, 72, 7028000],\n",
    "               ['Peterson', 42, 85, 2528000],\n",
    "               ['lynda', 42, 85, np.nan],\n",
    "               [np.nan, 42, 85, np.nan],\n",
    "               ['Jenny', np.nan, 100, 25632],\n",
    "               ['Kenn', np.nan, 110, 25632],\n",
    "                ['Aly', np.nan, 90, 25582],\n",
    "               ['John', 41, 85, 1528000]]\n",
    " \n",
    "# creating a pandas dataframe\n",
    "df = pd.DataFrame(employee_list, columns=['Name', 'Age', 'Weight', 'Salary'])\n",
    "\n",
    "print(df)\n",
    "\n",
    "print('---- after dropping or cleaning the missing data ---')\n",
    "df = df.dropna()\n",
    "#df = df.dropna(axis=1)\n",
    "#df = df.dropna(axis=1,subset='Age')\n",
    "#df = df.dropna(how='any', inplace=True)\n",
    "#df = df.dropna(thresh=42.0)\n",
    "print(df)\n"
   ]
  },
  {
   "attachments": {},
   "cell_type": "markdown",
   "metadata": {},
   "source": [
    "Example 2: Filling Missing Data using df.fillna() method\n",
    "Pandas has several options for filling, or replacing, missing values with other values. One of the most convenient methods is the .fillna() method. You can use it to replace missing values with:\n",
    "\n",
    "Specified values\n",
    "The values above the missing value\n",
    "The values below the missing value\n",
    "\n",
    "Syntax:\n",
    "DataFrame.fillna(value=None, method=None, axis=None, inplace=False, limit=None, downcast=None, **kwargs)\n",
    "Parameters: \n",
    "value : Static, dictionary, array, series or dataframe to fill instead of NaN. \n",
    "\n",
    "method : Method is used if the user doesn’t pass any value. Pandas has different methods like bfill, backfill or ffill which fills the place with value in the Forward index or Previous/Back respectively. \n",
    "\n",
    "axis: axis takes int or string value for rows/columns. Input can be 0 or 1 for Integer and ‘index’ or ‘columns’ for String \n",
    "\n",
    "inplace: It is a boolean which makes the changes in the data frame itself if True. limit : This is an integer value which specifies maximum number of consecutive forward/backward NaN value fills. \n",
    "\n",
    "downcast : It takes a dict which specifies what dtype to downcast to which one. Like Float64 to int64.\n",
    " **kwargs : Any other Keyword arguments"
   ]
  },
  {
   "cell_type": "code",
   "execution_count": 18,
   "metadata": {},
   "outputs": [
    {
     "name": "stdout",
     "output_type": "stream",
     "text": [
      "        Name  Age  Weight     Salary\n",
      "0      James   36    75.0  5428000.0\n",
      "1    Villers   38    74.0  3428000.0\n",
      "2      VKole   31    70.0  8428000.0\n",
      "3      Smith   34    80.0  4428000.0\n",
      "4      Gayle   40   100.0  4528000.0\n",
      "5       Adam   40     NaN  4528000.0\n",
      "6     Rooter   33    72.0  7028000.0\n",
      "7   Peterson   42    85.0  2528000.0\n",
      "8      lynda   42    85.0        NaN\n",
      "9        NaN   42    85.0        NaN\n",
      "10      John   41    85.0  1528000.0\n"
     ]
    }
   ],
   "source": [
    "# Initializing the nested list with Data set\n",
    "employee_list = [['James', 36, 75, 5428000],\n",
    "               ['Villers', 38, 74, 3428000],\n",
    "               ['VKole', 31, 70, 8428000],\n",
    "               ['Smith', 34, 80, 4428000],\n",
    "               ['Gayle', 40, 100, 4528000],\n",
    "               ['Adam', 40, np.nan, 4528000],\n",
    "               ['Rooter', 33, 72, 7028000],\n",
    "               ['Peterson', 42, 85, 2528000],\n",
    "               ['lynda', 42, 85, np.nan],\n",
    "               [np.nan, 42, 85, np.nan],\n",
    "               ['John', 41, 85, 1528000],]\n",
    " \n",
    "# creating a pandas dataframe\n",
    "df = pd.DataFrame(employee_list, columns=['Name', 'Age', 'Weight', 'Salary'])\n",
    " \n",
    "print(df)\n"
   ]
  },
  {
   "attachments": {},
   "cell_type": "markdown",
   "metadata": {},
   "source": [
    "Example 2.1: fillna() on all columns"
   ]
  },
  {
   "cell_type": "code",
   "execution_count": 19,
   "metadata": {},
   "outputs": [
    {
     "name": "stdout",
     "output_type": "stream",
     "text": [
      "---------------Before Cleaning NaN values--------------\n",
      "        Name   Age  Weight     Salary\n",
      "0      James  36.0    75.0  5428000.0\n",
      "1    Villers  38.0    74.0  3428000.0\n",
      "2       Kole  31.0    70.0  8428000.0\n",
      "3      Smith  34.0    80.0  4428000.0\n",
      "4      Gayle  40.0   100.0  4528000.0\n",
      "5       Adam  40.0     NaN  4528000.0\n",
      "6     Rooter  33.0    72.0  7028000.0\n",
      "7   Peterson  42.0    85.0  2528000.0\n",
      "8      lynda  42.0    85.0        NaN\n",
      "9        NaN  42.0    85.0        NaN\n",
      "10     Jenny   NaN   100.0    25632.0\n",
      "11      Kenn   NaN   110.0    25632.0\n",
      "12       Aly   NaN    90.0    25582.0\n",
      "13      John  41.0    85.0  1528000.0\n",
      "---------------after filling all columns------------\n",
      "        Name   Age Weight     Salary\n",
      "0      James  36.0   75.0  5428000.0\n",
      "1    Villers  38.0   74.0  3428000.0\n",
      "2       Kole  31.0   70.0  8428000.0\n",
      "3      Smith  34.0   80.0  4428000.0\n",
      "4      Gayle  40.0  100.0  4528000.0\n",
      "5       Adam  40.0   None  4528000.0\n",
      "6     Rooter  33.0   72.0  7028000.0\n",
      "7   Peterson  42.0   85.0  2528000.0\n",
      "8      lynda  42.0   85.0       None\n",
      "9       None  42.0   85.0       None\n",
      "10     Jenny  None  100.0    25632.0\n",
      "11      Kenn  None  110.0    25632.0\n",
      "12       Aly  None   90.0    25582.0\n",
      "13      John  41.0   85.0  1528000.0\n"
     ]
    }
   ],
   "source": [
    "# fillna() on all columns\n",
    "# Initializing the nested list with Data set\n",
    "employee_list = [['James', 36, 75, 5428000],\n",
    "               ['Villers', 38, 74, 3428000],\n",
    "                ['Kole', 31, 70, 8428000],\n",
    "               ['Smith', 34, 80, 4428000],\n",
    "               ['Gayle', 40, 100, 4528000],\n",
    "               ['Adam', 40, np.nan, 4528000],\n",
    "               ['Rooter', 33, 72, 7028000],\n",
    "               ['Peterson', 42, 85, 2528000],\n",
    "               ['lynda', 42, 85, np.nan],\n",
    "               [np.nan, 42, 85, np.nan],\n",
    "               ['Jenny', np.nan, 100, 25632],\n",
    "               ['Kenn', np.nan, 110, 25632],\n",
    "                ['Aly', np.nan, 90, 25582],\n",
    "               ['John', 41, 85, 1528000],]\n",
    " \n",
    "# creating a pandas dataframe\n",
    "df = pd.DataFrame(employee_list, columns=['Name', 'Age', 'Weight', 'Salary'])\n",
    "print(\"---------------Before Cleaning NaN values--------------\")\n",
    "print(df)\n",
    "print('---------------after filling all columns------------')\n",
    "print(df.fillna('None'))\n",
    "\n"
   ]
  },
  {
   "attachments": {},
   "cell_type": "markdown",
   "metadata": {},
   "source": [
    "Example 2.2:  Fill same value on multiple columns from NaN values\n",
    "\n",
    "The below example updates columns 'Weight' and 'Age' with 'pending' for NaN values.\n"
   ]
  },
  {
   "cell_type": "code",
   "execution_count": 20,
   "metadata": {},
   "outputs": [
    {
     "name": "stdout",
     "output_type": "stream",
     "text": [
      "---------------Before Cleaning NaN values--------------\n",
      "        Name   Age  Weight     Salary\n",
      "0      James  36.0    75.0  5428000.0\n",
      "1    Villers  38.0    74.0  3428000.0\n",
      "2      VKole  31.0    70.0  8428000.0\n",
      "3      Smith  34.0    80.0  4428000.0\n",
      "4      Gayle  40.0   100.0  4528000.0\n",
      "5       Adam  40.0     NaN  4528000.0\n",
      "6     Rooter  33.0    72.0  7028000.0\n",
      "7   Peterson  42.0    85.0  2528000.0\n",
      "8      lynda  42.0    85.0        NaN\n",
      "9        NaN  42.0    85.0        NaN\n",
      "10     Jenny   NaN   100.0    25632.0\n",
      "11      Kenn   NaN   110.0    25632.0\n",
      "12       Aly   NaN    90.0    25582.0\n",
      "13      John  41.0    85.0  1528000.0\n",
      "---------------after Cleaning NaN values from multiple columns--------------\n",
      "     Weight      Age\n",
      "0      75.0     36.0\n",
      "1      74.0     38.0\n",
      "2      70.0     31.0\n",
      "3      80.0     34.0\n",
      "4     100.0     40.0\n",
      "5   pending     40.0\n",
      "6      72.0     33.0\n",
      "7      85.0     42.0\n",
      "8      85.0     42.0\n",
      "9      85.0     42.0\n",
      "10    100.0  pending\n",
      "11    110.0  pending\n",
      "12     90.0  pending\n",
      "13     85.0     41.0\n"
     ]
    }
   ],
   "source": [
    "employee_list = [['James', 36, 75, 5428000],\n",
    "               ['Villers', 38, 74, 3428000],\n",
    "               ['VKole', 31, 70, 8428000],\n",
    "               ['Smith', 34, 80, 4428000],\n",
    "               ['Gayle', 40, 100, 4528000],\n",
    "               ['Adam', 40, np.nan, 4528000],\n",
    "               ['Rooter', 33, 72, 7028000],\n",
    "               ['Peterson', 42, 85, 2528000],\n",
    "               ['lynda', 42, 85, np.nan],\n",
    "               [np.nan, 42, 85, np.nan],\n",
    "               ['Jenny', np.nan, 100, 25632],\n",
    "               ['Kenn', np.nan, 110, 25632],\n",
    "                ['Aly', np.nan, 90, 25582],\n",
    "               ['John', 41, 85, 1528000],]\n",
    " \n",
    "# creating a pandas dataframe\n",
    "df = pd.DataFrame(employee_list, columns=['Name', 'Age', 'Weight', 'Salary'])\n",
    "print(\"---------------Before Cleaning NaN values--------------\")\n",
    "print(df)\n",
    "\n",
    "print(\"---------------after Cleaning NaN values from multiple columns--------------\")\n",
    "df =df[['Weight','Age']].fillna('pending')\n",
    "print(df)\n"
   ]
  },
  {
   "attachments": {},
   "cell_type": "markdown",
   "metadata": {},
   "source": [
    "Example 2.3:  Fill different value for each column from NaN values\n",
    "\n",
    "Now, let’s see how to fill different values for each column. The below example updates column \n",
    "‘Name’ with ‘verification pending’,\n",
    "‘Weight’ with ‘pending’,\n",
    "‘Age’ with ‘unknown’\n",
    "‘Salary’ with ‘0.0’ for NaN values."
   ]
  },
  {
   "cell_type": "code",
   "execution_count": 21,
   "metadata": {},
   "outputs": [
    {
     "name": "stdout",
     "output_type": "stream",
     "text": [
      "---------------Before Cleaning NaN values--------------\n",
      "        Name   Age  Weight     Salary\n",
      "0      James  36.0    75.0  5428000.0\n",
      "1    Villers  38.0    74.0  3428000.0\n",
      "2      VKole  31.0    70.0  8428000.0\n",
      "3      Smith  34.0    80.0  4428000.0\n",
      "4      Gayle  40.0   100.0  4528000.0\n",
      "5       Adam  40.0     NaN  4528000.0\n",
      "6     Rooter  33.0    72.0  7028000.0\n",
      "7   Peterson  42.0    85.0  2528000.0\n",
      "8      lynda  42.0    85.0        NaN\n",
      "9        NaN  42.0    85.0        NaN\n",
      "10     Jenny   NaN   100.0    25632.0\n",
      "11      Kenn   NaN   110.0    25632.0\n",
      "12       Aly   NaN    90.0    25582.0\n",
      "13      John  41.0    85.0  1528000.0\n",
      "-----after Cleaning NaN values from multiple columns--------------\n",
      "                    Name      Age   Weight     Salary\n",
      "0                  James     36.0     75.0  5428000.0\n",
      "1                Villers     38.0     74.0  3428000.0\n",
      "2                  VKole     31.0     70.0  8428000.0\n",
      "3                  Smith     34.0     80.0  4428000.0\n",
      "4                  Gayle     40.0    100.0  4528000.0\n",
      "5                   Adam     40.0  Pending  4528000.0\n",
      "6                 Rooter     33.0     72.0  7028000.0\n",
      "7               Peterson     42.0     85.0  2528000.0\n",
      "8                  lynda     42.0     85.0        0.0\n",
      "9   Verification pending     42.0     85.0        0.0\n",
      "10                 Jenny  Unknown    100.0    25632.0\n",
      "11                  Kenn  Unknown    110.0    25632.0\n",
      "12                   Aly  Unknown     90.0    25582.0\n",
      "13                  John     41.0     85.0  1528000.0\n"
     ]
    }
   ],
   "source": [
    "employee_list = [['James', 36, 75, 5428000],\n",
    "               ['Villers', 38, 74, 3428000],\n",
    "               ['VKole', 31, 70, 8428000],\n",
    "               ['Smith', 34, 80, 4428000],\n",
    "               ['Gayle', 40, 100, 4528000],\n",
    "               ['Adam', 40, np.nan, 4528000],\n",
    "               ['Rooter', 33, 72, 7028000],\n",
    "               ['Peterson', 42, 85, 2528000],\n",
    "               ['lynda', 42, 85, np.nan],\n",
    "               [np.nan, 42, 85, np.nan],\n",
    "               ['Jenny', np.nan, 100, 25632],\n",
    "               ['Kenn', np.nan, 110, 25632],\n",
    "                ['Aly', np.nan, 90, 25582],\n",
    "               ['John', 41, 85, 1528000],]\n",
    " \n",
    "\n",
    "# creating a pandas dataframe\n",
    "df = pd.DataFrame(employee_list, columns=['Name', 'Age', 'Weight', 'Salary'])\n",
    "print(\"---------------Before Cleaning NaN values--------------\")\n",
    "print(df)\n",
    "print(\"-----after Cleaning NaN values from multiple columns--------------\")\n",
    "\n",
    "df2 = df.fillna(value={'Weight':'Pending','Age':\"Unknown\", 'Salary': \"0.0\", 'Name': \"Verification pending\"})\n",
    "\n",
    "print(df2)\n",
    "           "
   ]
  },
  {
   "attachments": {},
   "cell_type": "markdown",
   "metadata": {},
   "source": [
    "Pandas Replace NaN with Blank/Empty String\n",
    "\n",
    "By using replace() or fillna() methods you can replace NaN values with Blank/Empty string in Pandas DataFrame.\n",
    "\n",
    "Now, let’s create a DataFrame with a few rows and columns and execute some examples and validate the results. Our DataFrame contains column names Courses, Fee, Duration and Discount.\n"
   ]
  },
  {
   "cell_type": "code",
   "execution_count": 22,
   "metadata": {},
   "outputs": [
    {
     "name": "stdout",
     "output_type": "stream",
     "text": [
      "  Courses      Fee Duration  Discount\n",
      "0   Spark  20000.0      NaN    1000.0\n",
      "1     NaN  25000.0   40days       NaN\n",
      "2  Hadoop      NaN   35days    1500.0\n",
      "3  Python  22000.0      NaN       NaN\n",
      "4  pandas  24000.0   60days    2500.0\n",
      "5     NaN      NaN   50days    2100.0\n",
      "6    Java  22000.0   55days       NaN\n"
     ]
    }
   ],
   "source": [
    "import pandas as pd\n",
    "import numpy as np\n",
    "technologies = {\n",
    "    'Courses':[\"Spark\",np.nan,\"Hadoop\",\"Python\",\"pandas\",np.nan,\"Java\"],\n",
    "    'Fee' :[20000,25000, np.nan,22000,24000,np.nan,22000],\n",
    "    'Duration':[np.nan,'40days','35days', np.nan,'60days','50days','55days'],\n",
    "    'Discount':[1000,np.nan,1500,np.nan,2500,2100,np.nan]\n",
    "              }\n",
    "df = pd.DataFrame(technologies)\n",
    "print(df)\n"
   ]
  },
  {
   "attachments": {},
   "cell_type": "markdown",
   "metadata": {},
   "source": [
    "Example 3: Convert NaN to Empty String in Pandas\n",
    "\n",
    "Use df.replace(np.nan,'',regex=True) method to replace all NaN values to an empty string in the Pandas DataFrame column."
   ]
  },
  {
   "cell_type": "code",
   "execution_count": 24,
   "metadata": {},
   "outputs": [
    {
     "name": "stdout",
     "output_type": "stream",
     "text": [
      "  Courses      Fee Duration  Discount\n",
      "0   Spark  20000.0      NaN    1000.0\n",
      "1     NaN  25000.0   40days       NaN\n",
      "2  Hadoop      NaN   35days    1500.0\n",
      "3  Python  22000.0      NaN       NaN\n",
      "4  pandas  24000.0   60days    2500.0\n",
      "5     NaN      NaN   50days    2100.0\n",
      "6    Java  22000.0   55days       NaN\n",
      "  Courses      Fee Duration Discount\n",
      "0   Spark  20000.0            1000.0\n",
      "1          25000.0   40days         \n",
      "2  Hadoop            35days   1500.0\n",
      "3  Python  22000.0                  \n",
      "4  pandas  24000.0   60days   2500.0\n",
      "5                    50days   2100.0\n",
      "6    Java  22000.0   55days         \n"
     ]
    }
   ],
   "source": [
    "import pandas as pd\n",
    "import numpy as np\n",
    "technologies = {\n",
    "    'Courses':[\"Spark\",np.nan,\"Hadoop\",\"Python\",\"pandas\",np.nan,\"Java\"],\n",
    "    'Fee' :[20000,25000, np.nan,22000,24000,np.nan,22000],\n",
    "    'Duration':[np.nan,'40days','35days', np.nan,'60days','50days','55days'],\n",
    "    'Discount':[1000,np.nan,1500,np.nan,2500,2100,np.nan]\n",
    "              }\n",
    "df = pd.DataFrame(technologies)\n",
    "df2 = df.replace(np.nan, '', regex=True)\n",
    "print(df)\n",
    "print(df2)\n"
   ]
  },
  {
   "attachments": {},
   "cell_type": "markdown",
   "metadata": {},
   "source": [
    "Example 4: Multiple Columns Replace Empty String\n",
    "\n",
    "In order to replace NaN values with Blank strings on multiple columns or all columns from a list, use df[['Courses','Fee']] = df[['Courses','Fee']].fillna(''). This replaces NaN values on Courses and Fee columns."
   ]
  },
  {
   "cell_type": "code",
   "execution_count": 25,
   "metadata": {},
   "outputs": [
    {
     "name": "stdout",
     "output_type": "stream",
     "text": [
      "   Courses      Fee\n",
      "0    Spark  20000.0\n",
      "1  PENDING  25000.0\n",
      "2   Hadoop  PENDING\n",
      "3   Python  22000.0\n",
      "4   pandas  24000.0\n",
      "5  PENDING  PENDING\n",
      "6     Java  22000.0\n"
     ]
    }
   ],
   "source": [
    "import pandas as pd\n",
    "import numpy as np\n",
    "technologies = {\n",
    "    'Courses':[\"Spark\",np.nan,\"Hadoop\",\"Python\",\"pandas\",np.nan,\"Java\"],\n",
    "    'Fee' :[20000,25000, np.nan,22000,24000,np.nan,22000],\n",
    "    'Duration':[np.nan,'40days','35days', np.nan,'60days','50days','55days'],\n",
    "    'Discount':[1000,np.nan,1500,np.nan,2500,2100,np.nan]\n",
    "     }\n",
    "df = pd.DataFrame(technologies)\n",
    "\n",
    "# Using multiple columns \n",
    "df2 = df[['Courses','Fee' ]] = df[['Courses','Fee' ]].fillna('PENDING')\n",
    "print(df2)\n"
   ]
  },
  {
   "attachments": {},
   "cell_type": "markdown",
   "metadata": {},
   "source": [
    "\n",
    "Example 5: fillna() with inplace=True\n",
    "\n",
    "If you notice the above output after applying fillna() function, it returns a new DataFrame, In order to update the current/referring DataFrame in place use df.fillna('',inplace=True). When using this, the fillna() method returns None type.\n"
   ]
  },
  {
   "cell_type": "code",
   "execution_count": 36,
   "metadata": {},
   "outputs": [
    {
     "name": "stdout",
     "output_type": "stream",
     "text": [
      "None\n"
     ]
    }
   ],
   "source": [
    "#fillna() with inplace=True\n",
    "import pandas as pd\n",
    "import numpy as np\n",
    "technologies = {\n",
    "    'Courses':[\"Spark\",np.nan,\"Hadoop\",\"Python\",\"pandas\",np.nan,\"Java\"],\n",
    "    'Fee' :[20000,25000, np.nan,22000,24000,np.nan,22000],\n",
    "    'Duration':[np.nan,'40days','35days', np.nan,'60days','50days','55days'],\n",
    "    'Discount':[1000,np.nan,1500,np.nan,2500,2100,np.nan]\n",
    "              }\n",
    "df = pd.DataFrame(technologies)\n",
    "# Using pandas replace nan with null\n",
    "df2 = df.fillna('', inplace=True)\n",
    "#df2 = df.fillna(technologies['Discount'][0], inplace=True)\n",
    "print(df2)\n"
   ]
  }
 ],
 "metadata": {
  "kernelspec": {
   "display_name": "Python 3",
   "language": "python",
   "name": "python3"
  },
  "language_info": {
   "codemirror_mode": {
    "name": "ipython",
    "version": 3
   },
   "file_extension": ".py",
   "mimetype": "text/x-python",
   "name": "python",
   "nbconvert_exporter": "python",
   "pygments_lexer": "ipython3",
   "version": "3.10.10"
  },
  "orig_nbformat": 4
 },
 "nbformat": 4,
 "nbformat_minor": 2
}
