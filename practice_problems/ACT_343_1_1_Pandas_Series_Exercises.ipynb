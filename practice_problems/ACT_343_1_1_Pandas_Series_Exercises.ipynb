{
  "cells": [
    {
      "cell_type": "markdown",
      "id": "-b0uAd4l815N",
      "metadata": {
        "id": "-b0uAd4l815N"
      },
      "source": [
        "# **Pandas Series Practice Excercises**\n",
        "\n",
        "\n",
        "A pandas Series is a one-dimensional array. It holds any data type supported in Python and uses labels to locate each data value for retrieval. These labels form the index, and they can be strings or integers. A Series is the main data structure in the pandas framework for storing one-dimensional data."
      ]
    },
    {
      "cell_type": "markdown",
      "id": "pysSxlLx8bU5",
      "metadata": {
        "id": "pysSxlLx8bU5"
      },
      "source": [
        "**Common methods used with Pandas Series**\n",
        "\n",
        "\n",
        "*.head(), .name(), .to_frame(), .reset_index(), isin(), .valuecounts(), .index(), .qcut(), .reshape(), .take(), .append(), .tolist(), .get_loc(), .map(), .diff()*\n",
        "\n",
        "\n",
        "---\n",
        "\n",
        "\n",
        "Please refer to the [Pandas Series Documentation](https://pandas.pydata.org/docs/reference/api/pandas.Series.html) for a full list of methods and how to implement them. "
      ]
    },
    {
      "cell_type": "markdown",
      "id": "fc4bd4f0",
      "metadata": {
        "id": "fc4bd4f0"
      },
      "source": [
        "To complete the problems below we first need to import the Pandas and Numpy libraries. If you haven't already installed them, use pip or conda to install them globally or in your virtual environment.\n",
        "\n",
        "\n",
        "* The common alias for pandas is pd.  \n",
        "* The common alias for numpy is np.\n",
        "\n",
        "\n"
      ]
    },
    {
      "cell_type": "code",
      "execution_count": 1,
      "id": "3a3bc97b",
      "metadata": {
        "id": "3a3bc97b"
      },
      "outputs": [],
      "source": [
        "#pip install pandas\n",
        "#pip install numpy \n",
        "\n",
        "import pandas as pd\n",
        "import numpy as np"
      ]
    },
    {
      "cell_type": "markdown",
      "id": "b8fc4f4a",
      "metadata": {
        "id": "b8fc4f4a"
      },
      "source": [
        "**Problem 1**\n",
        "\n",
        "We can easily convert lists, tuples, dictionaries and numpy arrays into a Pandas Series by directly passing the python object as an arguement to the Series() constructor. We have used the alias pd in the cell above, so we will use pd.Series() to construct our Series object. \n",
        "\n",
        "\n",
        "\n",
        "*  Convert the 3 objects below into 3 seperate Pandas Series objects.\n",
        "*  Use the .head() method to see the first 5 items in each Series\n",
        "\n",
        "\n",
        "\n"
      ]
    },
    {
      "cell_type": "code",
      "execution_count": 2,
      "id": "21b30b4e",
      "metadata": {
        "id": "21b30b4e"
      },
      "outputs": [
        {
          "data": {
            "text/plain": [
              "a     0\n",
              "b     1\n",
              "c     2\n",
              "e     3\n",
              "d     4\n",
              "f     5\n",
              "g     6\n",
              "h     7\n",
              "i     8\n",
              "j     9\n",
              "k    10\n",
              "l    11\n",
              "m    12\n",
              "n    13\n",
              "o    14\n",
              "p    15\n",
              "q    16\n",
              "r    17\n",
              "s    18\n",
              "t    19\n",
              "u    20\n",
              "v    21\n",
              "w    22\n",
              "x    23\n",
              "y    24\n",
              "z    25\n",
              "dtype: int32"
            ]
          },
          "execution_count": 2,
          "metadata": {},
          "output_type": "execute_result"
        }
      ],
      "source": [
        "mylist = list('abcedfghijklmnopqrstuvwxyz')\n",
        "myarr = np.arange(26)\n",
        "mydict = dict(zip(mylist, myarr))\n",
        "\n",
        "ser1= pd.Series(mylist)\n",
        "#ser1.head(20)\n",
        "\n",
        "ser2= pd.Series(myarr)\n",
        "#ser2.head()\n",
        "\n",
        "ser3= pd.Series(mydict)\n",
        "ser3.head(27)"
      ]
    },
    {
      "cell_type": "markdown",
      "id": "4bdd8618",
      "metadata": {
        "id": "4bdd8618"
      },
      "source": [
        "**Problem 2**\n",
        "\n",
        "We can give a name to our Pandas series as a parameter of our Constructor method. \n",
        "\n",
        "*   Use the name parameter to add 'alphabet' as the name of our series.\n",
        "*   Use the .head() method to see the name of our Series displayed\n",
        "\n"
      ]
    },
    {
      "cell_type": "code",
      "execution_count": 3,
      "id": "b18f9c01",
      "metadata": {
        "id": "b18f9c01"
      },
      "outputs": [
        {
          "name": "stdout",
          "output_type": "stream",
          "text": [
            "0     a\n",
            "1     b\n",
            "2     c\n",
            "3     e\n",
            "4     d\n",
            "5     f\n",
            "6     g\n",
            "7     h\n",
            "8     i\n",
            "9     j\n",
            "10    k\n",
            "11    l\n",
            "12    m\n",
            "13    n\n",
            "14    o\n",
            "15    p\n",
            "16    q\n",
            "17    r\n",
            "18    s\n",
            "19    t\n",
            "20    u\n",
            "21    v\n",
            "22    w\n",
            "23    x\n",
            "24    y\n",
            "25    z\n",
            "Name: alphabet, dtype: object\n"
          ]
        }
      ],
      "source": [
        "ser = pd.Series(list('abcedfghijklmnopqrstuvwxyz'), name= 'alphabet')\n",
        "print(ser)"
      ]
    },
    {
      "attachments": {},
      "cell_type": "markdown",
      "id": "9CnM9Q1aGeSh",
      "metadata": {
        "id": "9CnM9Q1aGeSh"
      },
      "source": [
        "**Problem 3**\n",
        "\n",
        "We can also add a name to the series after it is created using the .name() method on our Series object.\n",
        "\n",
        "\n",
        "\n",
        "*   Use the .name attribute to add the name 'alphabet1' to the Series object after it has been created.\n",
        "*   Use the .head() method to verify\n",
        "\n",
        "\n",
        "\n"
      ]
    },
    {
      "cell_type": "code",
      "execution_count": 4,
      "id": "LNTgSTULGmki",
      "metadata": {
        "id": "LNTgSTULGmki"
      },
      "outputs": [
        {
          "data": {
            "text/plain": [
              "0    a\n",
              "1    b\n",
              "2    c\n",
              "3    e\n",
              "4    d\n",
              "Name: alphabet1, dtype: object"
            ]
          },
          "execution_count": 4,
          "metadata": {},
          "output_type": "execute_result"
        }
      ],
      "source": [
        "ser = pd.Series(list('abcedfghijklmnopqrstuvwxyz'))\n",
        "ser.name= 'alphabet1'\n",
        "ser.head()"
      ]
    },
    {
      "cell_type": "markdown",
      "id": "s37iP5fcQ9Nu",
      "metadata": {
        "id": "s37iP5fcQ9Nu"
      },
      "source": [
        "**Problem 4**\n",
        "\n",
        "We can use mathematic operators to perform calculations on two or more series.\n",
        "\n",
        "*   Create a new object that adds the two series below\n",
        "*   Create a new object that subtracts the two series below\n",
        "*   Create a new object that multiplies the two series below\n",
        "*   Create a new object that divides the two series below\n",
        "\n",
        "Make sure you display your outputs.\n",
        "\n",
        "\n",
        "\n"
      ]
    },
    {
      "cell_type": "code",
      "execution_count": 10,
      "id": "8f9oxMC2Rsf2",
      "metadata": {
        "id": "8f9oxMC2Rsf2"
      },
      "outputs": [
        {
          "name": "stdout",
          "output_type": "stream",
          "text": [
            "0     3\n",
            "1     7\n",
            "2    11\n",
            "3    15\n",
            "4    19\n",
            "dtype: int64\n",
            "0    1\n",
            "1    1\n",
            "2    1\n",
            "3    1\n",
            "4    1\n",
            "dtype: int64\n",
            "0     2\n",
            "1    12\n",
            "2    30\n",
            "3    56\n",
            "4    90\n",
            "dtype: int64\n",
            "0    2.000000\n",
            "1    1.333333\n",
            "2    1.200000\n",
            "3    1.142857\n",
            "4    1.111111\n",
            "dtype: float64\n"
          ]
        }
      ],
      "source": [
        "ser1= pd.Series([2, 4, 6, 8, 10])\n",
        "ser2= pd.Series([1, 3, 5, 7, 9])\n",
        "ser3 = ser1 + ser2\n",
        "print(ser3)\n",
        "ser4 = ser1 - ser2\n",
        "print(ser4)\n",
        "ser5 = ser1 * ser2\n",
        "print(ser5)\n",
        "ser6 = ser1 / ser2\n",
        "print(ser6)"
      ]
    },
    {
      "cell_type": "markdown",
      "id": "FFFpCBO9SPio",
      "metadata": {
        "id": "FFFpCBO9SPio"
      },
      "source": [
        "**Problem 5**\n",
        "\n",
        "We can use comparison operators to compare elements of two Series.\n",
        "\n",
        "Use the series below to perform the following:\n",
        "\n",
        "\n",
        "*   Check if the elements in ser1 are equal to the elements in ser2\n",
        "*   Check if the elements in ser1 are greater than the elements in ser2\n",
        "*   Check if the elements in ser1 are less than the elements in ser2\n",
        "\n",
        "\n",
        "\n"
      ]
    },
    {
      "cell_type": "code",
      "execution_count": 13,
      "id": "dDqg0fMyTKBl",
      "metadata": {
        "id": "dDqg0fMyTKBl"
      },
      "outputs": [
        {
          "name": "stdout",
          "output_type": "stream",
          "text": [
            "0    False\n",
            "1    False\n",
            "2     True\n",
            "3    False\n",
            "4     True\n",
            "dtype: bool\n",
            "0     True\n",
            "1     True\n",
            "2    False\n",
            "3     True\n",
            "4    False\n",
            "dtype: bool\n",
            "0     True\n",
            "1     True\n",
            "2    False\n",
            "3     True\n",
            "4    False\n",
            "dtype: bool\n"
          ]
        }
      ],
      "source": [
        "ser1= pd.Series([2, 4, 5, 8, 10])\n",
        "ser2= pd.Series([1, 3, 5, 7, 10])\n",
        "ser3 = ser1 == ser2\n",
        "print(ser3)\n",
        "ser4 = ser1 > ser2\n",
        "print(ser4)\n",
        "ser5 = ser1 > ser2\n",
        "print(ser5)"
      ]
    },
    {
      "cell_type": "markdown",
      "id": "WNACP_hzVEGO",
      "metadata": {
        "id": "WNACP_hzVEGO"
      },
      "source": [
        "**Problem 6**\n",
        "\n",
        "We can add additional elements to our Pandas Series. Use the Series below to peform the following:\n",
        "\n",
        "\n",
        "*   Create a new Series by using the .append() method to add 'penguin' and 'lion' to the Series object\n",
        "*   Use the .reset_index() method to reset the index values. \n",
        "\n",
        "(Both steps can be done in one line)\n",
        "\n"
      ]
    },
    {
      "cell_type": "code",
      "execution_count": 224,
      "id": "U88-04bTV0Pv",
      "metadata": {
        "id": "U88-04bTV0Pv"
      },
      "outputs": [
        {
          "name": "stdout",
          "output_type": "stream",
          "text": [
            "   index         0\n",
            "0      0       cat\n",
            "1      1       dog\n",
            "2      2  elephant\n",
            "3      3      frog\n",
            "4      0   Penguin\n",
            "5      1      Lion\n"
          ]
        }
      ],
      "source": [
        "ser= pd.Series(['cat', 'dog', 'elephant', 'frog'])\n",
        "ser1= pd.Series(['Penguin', 'Lion'])\n",
        "ser2 = pd.concat([ser,ser1]).reset_index()\n",
        "print(ser2)\n",
        "#ser.append(ser1)\n",
        "#ser.reset_index(name='animals')"
      ]
    },
    {
      "cell_type": "markdown",
      "id": "J-d-RjpoWv2r",
      "metadata": {
        "id": "J-d-RjpoWv2r"
      },
      "source": [
        "**Problem 7**\n",
        "\n",
        "We can customize the index of our Series by using the 'index' paramater in our Series constructor. Use the Series below to peform the following:\n",
        "\n",
        "\n",
        "*   Set the index to ['A', 'B', 'C', 'D']\n",
        "*   Use the .reindex() method after the Series object is created to change the order of the index to ['B', 'A', 'D', 'C']\n",
        "\n"
      ]
    },
    {
      "cell_type": "code",
      "execution_count": 27,
      "id": "oUhUE4TGXbwA",
      "metadata": {
        "id": "oUhUE4TGXbwA"
      },
      "outputs": [
        {
          "name": "stdout",
          "output_type": "stream",
          "text": [
            "A         cat\n",
            "B         dog\n",
            "C    elephant\n",
            "D        frog\n",
            "dtype: object\n"
          ]
        },
        {
          "data": {
            "text/plain": [
              "B         dog\n",
              "A         cat\n",
              "D        frog\n",
              "C    elephant\n",
              "dtype: object"
            ]
          },
          "execution_count": 27,
          "metadata": {},
          "output_type": "execute_result"
        }
      ],
      "source": [
        "index=['A','B','C','D']\n",
        "ser= pd.Series(['cat', 'dog', 'elephant', 'frog'],index=index)\n",
        "new_index = ['B','A','D','C']\n",
        "print(ser)\n",
        "ser.reindex(new_index)"
      ]
    },
    {
      "cell_type": "markdown",
      "id": "cdc8d244",
      "metadata": {
        "id": "cdc8d244"
      },
      "source": [
        "**Problem 8**\n",
        "\n",
        "Find the elements in the first series (ser1) not in the second series (ser2).\n",
        "\n",
        "\n",
        "*   Use the single square bracket notation and the .isin() method with ser1 to remove the items present in ser2. This will leave us with only the itmes not present in ser2.\n",
        "\n"
      ]
    },
    {
      "cell_type": "code",
      "execution_count": 35,
      "id": "f1276978",
      "metadata": {
        "id": "f1276978"
      },
      "outputs": [
        {
          "name": "stdout",
          "output_type": "stream",
          "text": [
            "0    False\n",
            "1    False\n",
            "2    False\n",
            "3     True\n",
            "4     True\n",
            "dtype: bool\n"
          ]
        }
      ],
      "source": [
        "ser1 = pd.Series([1, 2, 3, 4, 5])\n",
        "ser2 = pd.Series([4, 5, 6, 7, 8])\n",
        "ser1.isin(ser2)\n"
      ]
    },
    {
      "cell_type": "markdown",
      "id": "DmNC5CliY7I5",
      "metadata": {
        "id": "DmNC5CliY7I5"
      },
      "source": [
        "**Problem 9**\n",
        "\n",
        "Use the Series below to peform the following:\n",
        "*   Use a built-in Pandas method to find the mean of the Series\n",
        "*   Use a built-in Pandas method to find the standard deviation of the Series\n",
        "\n"
      ]
    },
    {
      "cell_type": "code",
      "execution_count": 40,
      "id": "lR7z4OOjZcdm",
      "metadata": {
        "id": "lR7z4OOjZcdm"
      },
      "outputs": [
        {
          "data": {
            "text/plain": [
              "2.522624895547565"
            ]
          },
          "execution_count": 40,
          "metadata": {},
          "output_type": "execute_result"
        }
      ],
      "source": [
        "ser = pd.Series(data = [1,2,3,4,5,6,7,8,9,5,3])\n",
        "ser.mean()\n",
        "ser.std()"
      ]
    },
    {
      "cell_type": "markdown",
      "id": "d336f7dd",
      "metadata": {
        "id": "d336f7dd"
      },
      "source": [
        "**Problem 10**\n",
        "\n",
        "Find the elements in both series that are not in common (remove them if they exist in both).\n",
        "\n",
        "*   Create a new Series using np.union1d()\n",
        "*   Create a new Series using np. intersect1d()\n",
        "*   Use single square bracket notation and the .isin() method to find the final result\n",
        "\n",
        "\n",
        "\n"
      ]
    },
    {
      "cell_type": "code",
      "execution_count": 43,
      "id": "28768232",
      "metadata": {
        "id": "28768232"
      },
      "outputs": [
        {
          "name": "stdout",
          "output_type": "stream",
          "text": [
            "[1 2 3 4 5 6 7 8]\n",
            "[4 5]\n"
          ]
        }
      ],
      "source": [
        "ser1 = pd.Series([1, 2, 3, 4, 5])\n",
        "ser2 = pd.Series([4, 5, 6, 7, 8])\n",
        "union1 = np.union1d(ser1,ser2)\n",
        "print(union1)\n",
        "union2 = np.intersect1d(ser1, ser2)\n",
        "print(union2)"
      ]
    },
    {
      "cell_type": "markdown",
      "id": "5d7188b5",
      "metadata": {
        "id": "5d7188b5"
      },
      "source": [
        "**Problem 11**\n",
        "\n",
        "Find the minimum, max, 25th percentile, and 75th percentile in the series.\n",
        "\n",
        "*   Use np.percentile to find the percentiles above\n",
        "\n",
        "\n",
        "\n"
      ]
    },
    {
      "cell_type": "code",
      "execution_count": 246,
      "id": "5a1a3ce7",
      "metadata": {
        "id": "5a1a3ce7"
      },
      "outputs": [
        {
          "data": {
            "text/plain": [
              "13.043891306948087"
            ]
          },
          "execution_count": 246,
          "metadata": {},
          "output_type": "execute_result"
        }
      ],
      "source": [
        "ser = pd.Series(np.random.normal(10, 5, 25))\n",
        "ser.min()\n",
        "ser.max()\n",
        "np.percentile(ser, 25)\n",
        "np.percentile(ser, 75)"
      ]
    },
    {
      "cell_type": "markdown",
      "id": "2e3c1803",
      "metadata": {
        "id": "2e3c1803"
      },
      "source": [
        "**Problem 12**\n",
        "\n",
        "Obtain the count of each unique item in the series.\n",
        "\n",
        "\n",
        "*   Use the .value_counts() method to find the frequency count of each unique item\n",
        "\n",
        "\n"
      ]
    },
    {
      "cell_type": "code",
      "execution_count": 58,
      "id": "16a2880a",
      "metadata": {
        "id": "16a2880a"
      },
      "outputs": [
        {
          "data": {
            "text/plain": [
              "e    0.200000\n",
              "c    0.166667\n",
              "d    0.133333\n",
              "f    0.133333\n",
              "g    0.100000\n",
              "h    0.100000\n",
              "b    0.100000\n",
              "a    0.066667\n",
              "dtype: float64"
            ]
          },
          "execution_count": 58,
          "metadata": {},
          "output_type": "execute_result"
        }
      ],
      "source": [
        "ser = pd.Series(np.take(list('abcdefgh'), np.random.randint(8, size=30)))\n",
        "ser.value_counts()\n",
        "#ser.value_counts(normalize=True)"
      ]
    },
    {
      "cell_type": "markdown",
      "id": "449036ea",
      "metadata": {
        "id": "449036ea"
      },
      "source": [
        "**Problem 13**\n",
        "\n",
        "Keep the two most frequent items in the series and change all items that are not those two into \"Other\".\n",
        "\n",
        "\n",
        "\n",
        "*   Use .isin(), .valuecounts(), and .index() to complete the task above\n",
        "\n"
      ]
    },
    {
      "cell_type": "code",
      "execution_count": 83,
      "id": "e86f2a9e",
      "metadata": {
        "id": "e86f2a9e"
      },
      "outputs": [
        {
          "data": {
            "text/plain": [
              "0    2\n",
              "dtype: int32"
            ]
          },
          "execution_count": 83,
          "metadata": {},
          "output_type": "execute_result"
        }
      ],
      "source": [
        "np.random.RandomState(100)\n",
        "ser = pd.Series(np.random.randint(1, 5, [12]))\n",
        "ser.isin(ser).value_counts().index\n",
        "ser.mode()"
      ]
    },
    {
      "cell_type": "markdown",
      "id": "b5928875",
      "metadata": {
        "id": "b5928875"
      },
      "source": [
        "**Problem 14**\n",
        "\n",
        "Bin the series below into 10 equal deciles and replace the values with the bin name.\n",
        "\n",
        "*   Use the .qcut() method to complete the task \n",
        "\n",
        "\n"
      ]
    },
    {
      "cell_type": "code",
      "execution_count": 86,
      "id": "979b3d36",
      "metadata": {
        "id": "979b3d36"
      },
      "outputs": [
        {
          "name": "stdout",
          "output_type": "stream",
          "text": [
            "0                   (0.162, 0.201]\n",
            "1                   (0.836, 0.929]\n",
            "2                   (0.581, 0.671]\n",
            "3                   (0.671, 0.792]\n",
            "4                   (0.201, 0.276]\n",
            "5                   (0.836, 0.929]\n",
            "6                   (0.276, 0.472]\n",
            "7                   (0.112, 0.162]\n",
            "8                   (0.792, 0.836]\n",
            "9    (0.053399999999999996, 0.112]\n",
            "dtype: category\n",
            "Categories (10, interval[float64, right]): [(0.053399999999999996, 0.112] < (0.112, 0.162] < (0.162, 0.201] < (0.201, 0.276] ... (0.581, 0.671] < (0.671, 0.792] < (0.792, 0.836] < (0.836, 0.929]]\n"
          ]
        }
      ],
      "source": [
        "ser = pd.Series(np.random.random(20))\n",
        "ser1 = pd.qcut(ser, q=10).head(10)\n",
        "print(ser1)"
      ]
    },
    {
      "cell_type": "markdown",
      "id": "28c62e92",
      "metadata": {
        "id": "28c62e92"
      },
      "source": [
        "**Problem 15**\n",
        "\n",
        "Find the positions of numbers that are multiples of 3 from Seriees below.\n",
        "\n",
        "*  Use np.argwhere() to complete the task \n",
        "\n",
        "\n"
      ]
    },
    {
      "cell_type": "code",
      "execution_count": 245,
      "id": "7ae884a9",
      "metadata": {
        "id": "7ae884a9"
      },
      "outputs": [
        {
          "name": "stdout",
          "output_type": "stream",
          "text": [
            "0    3\n",
            "1    8\n",
            "2    1\n",
            "3    9\n",
            "4    8\n",
            "5    9\n",
            "6    4\n",
            "dtype: int32\n",
            "[[0]\n",
            " [3]\n",
            " [6]\n",
            " [9]]\n"
          ]
        }
      ],
      "source": [
        "ser = pd.Series(np.random.randint(1, 10, 7))\n",
        "print(ser)\n",
        "x = np.arange(10)\n",
        "res_index = np.argwhere(x%3==0)\n",
        "print(res_index)"
      ]
    },
    {
      "cell_type": "markdown",
      "id": "7a60f247",
      "metadata": {
        "id": "7a60f247"
      },
      "source": [
        "**Problem 16**\n",
        "\n",
        "From ser, extract the items at positions in list pos.\n",
        "\n",
        "*   Use the .take() method to complete the task\n",
        "\n"
      ]
    },
    {
      "cell_type": "code",
      "execution_count": 151,
      "id": "42338aff",
      "metadata": {
        "id": "42338aff"
      },
      "outputs": [
        {
          "data": {
            "text/plain": [
              "0     a\n",
              "4     e\n",
              "8     i\n",
              "14    o\n",
              "20    u\n",
              "dtype: object"
            ]
          },
          "execution_count": 151,
          "metadata": {},
          "output_type": "execute_result"
        }
      ],
      "source": [
        "ser = pd.Series(list('abcdefghijklmnopqrstuvwxyz'))\n",
        "pos = [0, 4, 8, 14, 20]\n",
        "ser.take(pos)"
      ]
    },
    {
      "cell_type": "markdown",
      "id": "5da1836c",
      "metadata": {
        "id": "5da1836c"
      },
      "source": [
        "**Problem 17**\n",
        "\n",
        "Stack ser1 and ser2 vertically.\n",
        "\n",
        "*   Use the .append() method to complete the task\n",
        "\n"
      ]
    },
    {
      "cell_type": "code",
      "execution_count": 153,
      "id": "5dfea534",
      "metadata": {
        "id": "5dfea534"
      },
      "outputs": [
        {
          "name": "stdout",
          "output_type": "stream",
          "text": [
            "0    0\n",
            "1    1\n",
            "2    2\n",
            "3    3\n",
            "4    4\n",
            "dtype: int64\n",
            "0    a\n",
            "1    b\n",
            "2    c\n",
            "3    d\n",
            "4    e\n",
            "dtype: object\n"
          ]
        },
        {
          "name": "stderr",
          "output_type": "stream",
          "text": [
            "C:\\Users\\omend\\AppData\\Local\\Temp\\ipykernel_25612\\56588672.py:5: FutureWarning: The series.append method is deprecated and will be removed from pandas in a future version. Use pandas.concat instead.\n",
            "  ser1.append(ser2)\n"
          ]
        },
        {
          "data": {
            "text/plain": [
              "0    0\n",
              "1    1\n",
              "2    2\n",
              "3    3\n",
              "4    4\n",
              "0    a\n",
              "1    b\n",
              "2    c\n",
              "3    d\n",
              "4    e\n",
              "dtype: object"
            ]
          },
          "execution_count": 153,
          "metadata": {},
          "output_type": "execute_result"
        }
      ],
      "source": [
        "ser1 = pd.Series(range(5))\n",
        "ser2 = pd.Series(list('abcde'))\n",
        "print(ser1)\n",
        "print(ser2)\n",
        "ser1.append(ser2)"
      ]
    },
    {
      "cell_type": "markdown",
      "id": "c252d7bb",
      "metadata": {
        "id": "c252d7bb"
      },
      "source": [
        "**Problem 18**\n",
        "\n",
        "Get the positions of items of ser2 in ser1 as a list.\n",
        "\n",
        "*   Use list comprehension, pd.Index, and .getloc() to complete the task\n",
        "\n"
      ]
    },
    {
      "cell_type": "code",
      "execution_count": 155,
      "id": "da51891e",
      "metadata": {
        "id": "da51891e"
      },
      "outputs": [
        {
          "name": "stdout",
          "output_type": "stream",
          "text": [
            "[5, 4, 0, 8]\n"
          ]
        }
      ],
      "source": [
        "ser1 = pd.Series([10, 9, 6, 5, 3, 1, 12, 8, 13])\n",
        "ser2 = pd.Series([1, 3, 10, 13])\n",
        "result = [pd.Index(ser1).get_loc(i) for i in ser2]\n",
        "print(result)"
      ]
    },
    {
      "cell_type": "markdown",
      "id": "7acf6f79",
      "metadata": {
        "id": "7acf6f79"
      },
      "source": [
        "**Problem 19**\n",
        "\n",
        "Change the first character of each word to upper case in each word of ser.\n",
        "\n",
        "*   Use the .map() method combined with a string method to complete the task\n",
        "\n",
        "\n"
      ]
    },
    {
      "cell_type": "code",
      "execution_count": 159,
      "id": "c210bbe9",
      "metadata": {
        "id": "c210bbe9"
      },
      "outputs": [
        {
          "name": "stdout",
          "output_type": "stream",
          "text": [
            "0      HoW\n",
            "1       TO\n",
            "2     KicK\n",
            "3    Butt?\n",
            "dtype: object\n"
          ]
        }
      ],
      "source": [
        "ser = pd.Series(['how', 'to', 'kick', 'butt?'])\n",
        "result = ser.map(lambda x: x[0].upper() + x[1:-1] + x[-1].upper())\n",
        "print(result)"
      ]
    },
    {
      "cell_type": "markdown",
      "id": "053f198a",
      "metadata": {
        "id": "053f198a"
      },
      "source": [
        "**Problem 20**\n",
        "\n",
        "Calculate the number of characters for each element in the series.\n",
        "\n",
        "*   Use the .map() method combined with a method to find the length of the string to complete the task.\n",
        "\n"
      ]
    },
    {
      "cell_type": "code",
      "execution_count": 161,
      "id": "216f9a3e",
      "metadata": {
        "id": "216f9a3e"
      },
      "outputs": [
        {
          "name": "stdout",
          "output_type": "stream",
          "text": [
            "0    3\n",
            "1    2\n",
            "2    4\n",
            "3    5\n",
            "dtype: int64\n"
          ]
        }
      ],
      "source": [
        "ser = pd.Series(['how', 'to', 'kick', 'butt?'])\n",
        "results = ser.map(lambda calc:len(calc))\n",
        "print(results)"
      ]
    },
    {
      "cell_type": "markdown",
      "id": "a26bcf59",
      "metadata": {
        "id": "a26bcf59"
      },
      "source": [
        "**Problem 21**\n",
        "\n",
        "Caluculate the difference of differences between the consequtive numbers of ser. Dislplay the output as a list.\n",
        "\n",
        "*   Use the .diff() method to the complete the task\n",
        "\n"
      ]
    },
    {
      "cell_type": "code",
      "execution_count": 167,
      "id": "c6dba0cb",
      "metadata": {
        "id": "c6dba0cb"
      },
      "outputs": [
        {
          "data": {
            "text/plain": [
              "0    NaN\n",
              "1    2.0\n",
              "2    3.0\n",
              "3    4.0\n",
              "4    5.0\n",
              "5    6.0\n",
              "6    6.0\n",
              "7    8.0\n",
              "dtype: float64"
            ]
          },
          "execution_count": 167,
          "metadata": {},
          "output_type": "execute_result"
        }
      ],
      "source": [
        "ser = pd.Series([1, 3, 6, 10, 15, 21, 27, 35])\n",
        "ser.diff()\n",
        "#ser.diff().tolist()"
      ]
    },
    {
      "cell_type": "markdown",
      "id": "c64a2901",
      "metadata": {
        "id": "c64a2901"
      },
      "source": [
        "**Problem 22**\n",
        "\n",
        "Convert the date-strings to a timeseries.\n",
        "\n",
        "*   use the .to_datetime() method to complete the task\n"
      ]
    },
    {
      "cell_type": "code",
      "execution_count": 169,
      "id": "db82de89",
      "metadata": {
        "id": "db82de89"
      },
      "outputs": [
        {
          "name": "stdout",
          "output_type": "stream",
          "text": [
            "0   2010-01-01 00:00:00\n",
            "1   2011-02-02 00:00:00\n",
            "2   2012-03-03 00:00:00\n",
            "3   2013-04-04 00:00:00\n",
            "4   2014-05-05 00:00:00\n",
            "5   2015-06-06 12:20:00\n",
            "dtype: datetime64[ns]\n"
          ]
        }
      ],
      "source": [
        "ser = pd.Series(['01 Jan 2010', '02-02-2011', '20120303', '2013/04/04', '2014-05-05', '2015-06-06T12:20'])\n",
        "ser1 = pd.to_datetime(ser)\n",
        "print(ser1)"
      ]
    },
    {
      "cell_type": "markdown",
      "id": "5a5f83c0",
      "metadata": {
        "id": "5a5f83c0"
      },
      "source": [
        "**Problem 23**\n",
        "\n",
        "From dateutil.parser import the parse method to use for the following:\n",
        "\n",
        "*   Create a new object using the .map() method to parse ser\n",
        "*   Create a new list of all the days of the month using the .dt.day() methods from the parsed series\n",
        "*   Create a new list of all the weeks of the year using the .dt.weekofyear() methods from the parsed series\n",
        "*   Create a new list of all of the days of the year using the dt.dayofyear() methods from the parsed series\n",
        "*   Create a new list of all the days of the week using the dt.weekday_name() methods from the parsed series\n",
        "\n",
        "\n",
        "\n"
      ]
    },
    {
      "cell_type": "code",
      "execution_count": 188,
      "id": "4bcc124e",
      "metadata": {
        "id": "4bcc124e"
      },
      "outputs": [
        {
          "name": "stdout",
          "output_type": "stream",
          "text": [
            "Day of month:\n",
            "[1, 2, 3, 4, 5, 6]\n",
            "week of year:\n",
            "[53, 5, 9, 14, 19, 23]\n",
            "Day of year:\n",
            "[1, 33, 63, 94, 125, 157]\n",
            "Day of week:\n",
            "[4, 2, 5, 3, 0, 5]\n"
          ]
        },
        {
          "name": "stderr",
          "output_type": "stream",
          "text": [
            "C:\\Users\\omend\\AppData\\Local\\Temp\\ipykernel_25612\\391116013.py:7: FutureWarning: Series.dt.weekofyear and Series.dt.week have been deprecated. Please use Series.dt.isocalendar().week instead.\n",
            "  print(result.dt.weekofyear.tolist())\n"
          ]
        }
      ],
      "source": [
        "from dateutil.parser import parse\n",
        "ser = pd.Series(['01 Jan 2010', '02-02-2011', '20120303', '2013/04/04', '2014-05-05', '2015-06-06T12:20'])\n",
        "result = ser.map(lambda x: parse(x))\n",
        "print(\"Day of month:\")\n",
        "print(result.dt.day.tolist())\n",
        "print(\"week of year:\")\n",
        "print(result.dt.weekofyear.tolist())\n",
        "print(\"Day of year:\")\n",
        "print(result.dt.dayofyear.tolist())\n",
        "print(\"Day of week:\")\n",
        "print(result.dt.weekday.tolist())"
      ]
    },
    {
      "cell_type": "markdown",
      "id": "3dbb2f54",
      "metadata": {
        "id": "3dbb2f54"
      },
      "source": [
        "**Problem 24**\n",
        "\n",
        "From ser, extract words that contain at least 2 vowels."
      ]
    },
    {
      "cell_type": "code",
      "execution_count": 193,
      "id": "32dec09a",
      "metadata": {
        "id": "32dec09a"
      },
      "outputs": [
        {
          "name": "stdout",
          "output_type": "stream",
          "text": [
            "0     Apple\n",
            "1    Orange\n",
            "4     Money\n",
            "dtype: object\n"
          ]
        }
      ],
      "source": [
        "from collections import Counter\n",
        "ser = pd.Series(['Apple', 'Orange', 'Plan', 'Python', 'Money'])\n",
        "result =  result = ser.map(lambda c: sum([Counter(c.lower()).get(i, 0) for i in list('aeiou')]) >= 2)\n",
        "print(ser[result])"
      ]
    },
    {
      "cell_type": "markdown",
      "id": "44177063",
      "metadata": {
        "id": "44177063"
      },
      "source": [
        "**Problem 25**\n",
        "\n",
        "Extract the valid emails from the series emails. The regex pattern for valid emails is provided as reference."
      ]
    },
    {
      "cell_type": "code",
      "execution_count": 200,
      "id": "3e85fe14",
      "metadata": {
        "id": "3e85fe14"
      },
      "outputs": [
        {
          "name": "stdout",
          "output_type": "stream",
          "text": [
            "0                     []\n",
            "1    [rameses@egypt.com]\n",
            "2            [matt@t.co]\n",
            "3    [narendra@modi.com]\n",
            "dtype: object\n"
          ]
        }
      ],
      "source": [
        "import re\n",
        "\n",
        "emails = pd.Series(['buying books at amazom.com', 'rameses@egypt.com', 'matt@t.co', 'narendra@modi.com'])\n",
        "pattern ='[A-Za-z0-9._%+-]+@[A-Za-z0-9.-]+\\\\.[A-Za-z]{2,4}'\n",
        "mapped_result = emails.str.findall(pattern)\n",
        "print(mapped_result)"
      ]
    },
    {
      "cell_type": "markdown",
      "id": "66fadf17",
      "metadata": {
        "id": "66fadf17"
      },
      "source": [
        "**Problem 26**\n",
        "\n",
        "Compute the mean of weights of each fruit."
      ]
    },
    {
      "cell_type": "code",
      "execution_count": 208,
      "id": "75855cd1",
      "metadata": {
        "id": "75855cd1"
      },
      "outputs": [
        {
          "name": "stdout",
          "output_type": "stream",
          "text": [
            "4.0\n",
            "[1.0, 2.0, 3.0, 4.0, 5.0, 6.0, 7.0, 8.0, 9.0, 10.0]\n",
            "['carrot', 'apple', 'banana', 'banana', 'apple', 'banana', 'banana', 'carrot', 'apple', 'banana']\n"
          ]
        }
      ],
      "source": [
        "fruit = pd.Series(np.random.choice(['apple', 'banana', 'carrot'], 10))\n",
        "weights = pd.Series(np.linspace(1, 10, 10))\n",
        "print(np.average(np.arange(1,11), weights=np.arange(10,0,-1)))\n",
        "print(weights.tolist())\n",
        "print(fruit.tolist())\n",
        "#examples\n",
        "#> [1.0, 2.0, 3.0, 4.0, 5.0, 6.0, 7.0, 8.0, 9.0, 10.0]\n",
        "#> ['banana', 'carrot', 'apple', 'carrot', 'carrot', 'apple', 'banana', 'carrot', 'apple', 'carrot']"
      ]
    },
    {
      "cell_type": "markdown",
      "id": "04f5675f",
      "metadata": {
        "id": "04f5675f"
      },
      "source": [
        "**Problem 27**\n",
        "\n",
        "Replace the spaces in my_str with the least frequent character."
      ]
    },
    {
      "cell_type": "code",
      "execution_count": 216,
      "id": "1d4aff8d",
      "metadata": {
        "id": "1d4aff8d"
      },
      "outputs": [
        {
          "name": "stdout",
          "output_type": "stream",
          "text": [
            "c\n"
          ]
        }
      ],
      "source": [
        "my_str = 'dbc deb abed gade'\n",
        "x = Counter(my_str)\n",
        "x = min(my_str, key=x.get)\n",
        "print(x)"
      ]
    },
    {
      "cell_type": "markdown",
      "id": "146b95f0",
      "metadata": {
        "id": "146b95f0"
      },
      "source": [
        "Problem 28\n",
        "\n",
        "Create a timeseries starting at ‘2000-01-01’ and 10 weekends (saturdays) after that having random numbers as values."
      ]
    },
    {
      "cell_type": "code",
      "execution_count": 226,
      "id": "e4cd8dd6",
      "metadata": {
        "id": "e4cd8dd6"
      },
      "outputs": [
        {
          "name": "stdout",
          "output_type": "stream",
          "text": [
            "DatetimeIndex(['2000-01-01', '2000-01-02', '2000-01-03', '2000-01-04',\n",
            "               '2000-01-05', '2000-01-06', '2000-01-07', '2000-01-08',\n",
            "               '2000-01-09', '2000-01-10'],\n",
            "              dtype='datetime64[ns]', freq='D')\n"
          ]
        }
      ],
      "source": [
        "time_series = pd.date_range(start=\"2000-01-01\", periods=10, freq='D')\n",
        "print(time_series)\n"
      ]
    },
    {
      "cell_type": "markdown",
      "id": "b8a17176",
      "metadata": {
        "id": "b8a17176"
      },
      "source": [
        "Problem 29\n",
        "\n",
        "Series ser has missing dates and values. Make all missing dates appear and fill up with value from previous date.\n",
        "\n",
        "*   Use .resample() and .ffill() to complete the task\n",
        "\n",
        "\n"
      ]
    },
    {
      "cell_type": "code",
      "execution_count": 241,
      "metadata": {},
      "outputs": [
        {
          "name": "stdout",
          "output_type": "stream",
          "text": [
            "2000-01-01     1.0\n",
            "2000-01-03    10.0\n",
            "2000-01-06     3.0\n",
            "2000-01-08     3.0\n",
            "dtype: float64\n"
          ]
        }
      ],
      "source": [
        "ser = pd.Series([1,10,3,np.nan], index=pd.to_datetime(['2000-01-01', '2000-01-03', '2000-01-06', '2000-01-08']))\n",
        "#print(ser)\n",
        "ser.resample(\"D\").sum()\n",
        "result = ser.ffill(axis=0)\n",
        "print(result)\n",
        "#print(result)\n",
        "#> 2000-01-01     1.0\n",
        "#> 2000-01-03    10.0\n",
        "#> 2000-01-06     3.0\n",
        "#> 2000-01-08     NaN\n",
        "#> dtype: float64"
      ]
    }
  ],
  "metadata": {
    "colab": {
      "provenance": []
    },
    "kernelspec": {
      "display_name": "my_environment",
      "language": "python",
      "name": "python3"
    },
    "language_info": {
      "codemirror_mode": {
        "name": "ipython",
        "version": 3
      },
      "file_extension": ".py",
      "mimetype": "text/x-python",
      "name": "python",
      "nbconvert_exporter": "python",
      "pygments_lexer": "ipython3",
      "version": "3.10.10"
    },
    "vscode": {
      "interpreter": {
        "hash": "1468b46fbbf336438d2a9c265dd02fb55be29fdd63084011561d11061c2774ae"
      }
    }
  },
  "nbformat": 4,
  "nbformat_minor": 5
}
